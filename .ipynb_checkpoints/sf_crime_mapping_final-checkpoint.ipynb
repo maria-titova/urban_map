{
 "cells": [
  {
   "cell_type": "markdown",
   "metadata": {},
   "source": [
    "# Creating Web Maps in Python with GeoPandas and Folium\n",
    "\n",
    "## Introduction\n",
    "\n",
    "\n",
    "In this post, I demonstrate the use of the Python package Folium to create a web map from a GeoDataFrame. Folium is built on the Leaflet javascript library, which is a great tool for creating interactive web maps. However, I use Python for all of my data wrangling and analytical tasks, so it's really nice to be able to have the web-mapping capabilities from within the same environment. The goal of this post is to demonstrate a workflow between GeoPandas and Folium that makes it really easy to create functional and visually appealing web maps in Python.\n",
    "\n",
    "In this example, I plot the point locations of crimes in San Francisco, overlaid on a choropleth of census tract crime density. Viewing these two layers together on a web map creates a nice way to get an overall sense of crime distribution, while also being able to view individual crime information. As I demonstrate below, these Python packages provide a nice, clean, and customizable way of doing this."
   ]
  },
  {
   "cell_type": "code",
   "execution_count": null,
   "metadata": {},
   "outputs": [],
   "source": [
    "!pip instal"
   ]
  },
  {
   "cell_type": "code",
   "execution_count": 1,
   "metadata": {},
   "outputs": [
    {
     "ename": "ModuleNotFoundError",
     "evalue": "No module named 'pysal'",
     "output_type": "error",
     "traceback": [
      "\u001b[0;31m---------------------------------------------------------------------------\u001b[0m",
      "\u001b[0;31mModuleNotFoundError\u001b[0m                       Traceback (most recent call last)",
      "\u001b[0;32m<ipython-input-1-40141df73c08>\u001b[0m in \u001b[0;36m<module>\u001b[0;34m()\u001b[0m\n\u001b[1;32m      9\u001b[0m \u001b[0;32mfrom\u001b[0m \u001b[0mshapely\u001b[0m\u001b[0;34m.\u001b[0m\u001b[0mgeometry\u001b[0m \u001b[0;32mimport\u001b[0m \u001b[0mPoint\u001b[0m\u001b[0;34m\u001b[0m\u001b[0m\n\u001b[1;32m     10\u001b[0m \u001b[0;32mimport\u001b[0m \u001b[0municodedata\u001b[0m\u001b[0;34m\u001b[0m\u001b[0m\n\u001b[0;32m---> 11\u001b[0;31m \u001b[0;32mimport\u001b[0m \u001b[0mpysal\u001b[0m \u001b[0;32mas\u001b[0m \u001b[0mps\u001b[0m\u001b[0;34m\u001b[0m\u001b[0m\n\u001b[0m",
      "\u001b[0;31mModuleNotFoundError\u001b[0m: No module named 'pysal'"
     ]
    }
   ],
   "source": [
    "#Import the necessary Python moduless\n",
    "import pandas as pd\n",
    "import geopandas as gpd\n",
    "import numpy as np\n",
    "from geopandas.tools import sjoin\n",
    "import folium\n",
    "from folium.plugins import MarkerCluster\n",
    "import shapely\n",
    "from shapely.geometry import Point\n",
    "import unicodedata\n",
    "import pysal as ps"
   ]
  },
  {
   "cell_type": "markdown",
   "metadata": {},
   "source": [
    "## Data Prep\n",
    "In this section I create two GeoDataFrames: one of crime points and one of census tract boundaries with crime densities. Both of these will then be plotted on a web map as separate layers.\n",
    "\n",
    "### Read in Crime Data and Create a GeoDataFrame\n",
    "First I read in a CSV file of San Francisco Police Incidents for the current year into a Pandas DataFrame. I downloaded the raw data from the San Francisco [Open Data Portal](https://data.sfgov.org/). Because there are so many crime incidents, I select a subset of the data: crimes in the \"assault\" category that were committed in the last 10 days. As shown below, this leaves me with 329 police incidents. \n"
   ]
  },
  {
   "cell_type": "code",
   "execution_count": null,
   "metadata": {},
   "outputs": [],
   "source": [
    "#Read in CSV file specifying date field and encoding. Sort by date\n",
    "all_crime = pd.read_csv('SFPD_Incidents_-_Current_Year__2016_.csv', parse_dates = ['Date'],\\\n",
    "                        encoding = 'utf-8').sort_values('Date').reset_index(drop=True)\n",
    "\n",
    "#Clean up the encoding on the Crime Description field \n",
    "all_crime.Descript = all_crime.Descript.apply(lambda x: unicodedata.normalize(\"NFKD\", x))\n",
    "\n",
    "#Create a field that contains a string representation of the date, for later use\n",
    "all_crime['DateStr'] = all_crime.Date.apply(lambda x: x.strftime(\"%Y-%m-%d\"))\n",
    "\n",
    "#Identify those crimes that are categorized as assaults\n",
    "is_assault = all_crime.Category == 'ASSAULT' \n",
    "\n",
    "#Identify those crimes that were committed in the most recent 10 days of the dataset\n",
    "recent = all_crime.Date.isin(all_crime.Date.unique()[-10:]) \n",
    "\n",
    "#Subset the data to get assaults commited within the last 10 days\n",
    "assaults = all_crime[is_assault & recent].drop_duplicates('IncidntNum').reset_index(drop = True)\n",
    "assaults = assaults[['IncidntNum', 'Descript', 'DateStr', 'Time', 'Address','X', 'Y']]\n",
    "print '{} assaults in the last 10 days'.format(str(len(assaults)))"
   ]
  },
  {
   "cell_type": "markdown",
   "metadata": {},
   "source": [
    "I now want to convert the assault data Pandas DataFrame to a GeoPandas GeoDataFrame (a spatial version of the former). The raw crime data comes with lat/long coordinates, which I use these to create Shapely point geometry objects (these are the values in the \"geometry\" field for each record in a GeoDataFrame). I specify the spatial reference system as ESPG 4326 which represents the standard WGS84 coordinate system."
   ]
  },
  {
   "cell_type": "code",
   "execution_count": null,
   "metadata": {},
   "outputs": [],
   "source": [
    "#First create a GeoSeries of crime locations by converting coordinates to Shapely geometry objects\n",
    "#Specify the coordinate system ESPG4326 which represents the standard WGS84 coordinate system\n",
    "assault_geo = gpd.GeoSeries(assaults.apply(lambda z: Point(z['X'], z['Y']), 1),crs={'init': 'epsg:4326'})\n",
    "\n",
    "#Create a geodataframe from the pandas dataframe and the geoseries of shapely geometry objects\n",
    "assaults = gpd.GeoDataFrame(assaults.drop(['X', 'Y'], 1), geometry=assault_geo)\n",
    "print assaults.head()"
   ]
  },
  {
   "cell_type": "markdown",
   "metadata": {},
   "source": [
    "### Calculate Census Tract Crime Density\n",
    "Next, I read in a Shapefile of San Francisco Census Tracts, which I also downloaded from the SF Open Data Portal. With GeoPandas, I can read a Shapefile directly into Python really easily. Then in one line of code, I spatially join census tracts to assaults (determine the census tract of each assault), and generate counts of assaults per census tract. Note that I use the ```to_crs``` function to convert assaults to the same coordinate system as Census Tracts (EPSG 3310) prior to spatially joining them.\n",
    "\n",
    "Lastly, I calculate the number of assaults per square mile, which is the metric that I'm interested in plotting."
   ]
  },
  {
   "cell_type": "code",
   "execution_count": null,
   "metadata": {},
   "outputs": [],
   "source": [
    "#Read tracts shapefile into GeoDataFrame\n",
    "tracts = gpd.read_file('sf_census_tracts.shp').set_index('CTFIPS10')\n",
    "\n",
    "#Generate Counts of Assaults per Census Tract\n",
    "#Spatially join census tracts to assaults (after projecting) and then group by Tract FIPS while counting the number of crimes\n",
    "tract_counts = gpd.tools.sjoin(assaults.to_crs(tracts.crs), tracts.reset_index()).groupby('CTFIPS10').size()\n",
    "\n",
    "#Calculate Assault Density, converting square meters to square miles.\n",
    "tracts['AssaultsPSqMi'] = (tract_counts/(tracts.geometry.area*3.86102e-7)).fillna(0)\n",
    "tracts = tracts.reset_index()\n",
    "print tracts.head()"
   ]
  },
  {
   "cell_type": "markdown",
   "metadata": {},
   "source": [
    "## Using Folium to Plot Data\n",
    "The general approach I take here is to first create a Folium basemap and then add two layers to it: (1) a choropleth of census tracts, symbolized crime density, and (2) crime point locations. I write a separate function to plot each of these two layers, each of which takes a GeoDataFrame as its input. Folium takes unprojected lat/long coordinates for all of its plotting, so I make sure to convert all of my projected GeoDataFrames to WGS84 within the plotting functions.\n",
    "\n",
    "###  Choropleth Layer of Tract Crime Density\n",
    "As its inputs, my choropleth function takes a Folium map object, a GeoDataFrame, the name of the feature ID field, and the name of the field whose values will be symbolized. \n",
    "\n",
    "Leaflet uses GeoJSON objects to plot vector geometries (GeoJSON is a data format that is used to represent geographical features along with their non-spatial attributes). GeoPandas has a ```to_json``` method which I use to convert the GeoDataFrame to GeoJSON to be used as one of the inputs to Folium's choropleth function. I also specify the id field, which is used to link the geometry in the GeoJSON with the data in the GeoDataFrame.\n",
    "\n",
    "The function also takes optional parameters for fill color, fill opacity, line opacity, number of classifiers, and classification scheme. All of these have default values if not specified. Folium / Leaflet uses the [Color Brewer](http://colorbrewer2.org/#type=sequential&scheme=YlOrRd&n=5) sequential color schemes, which can easily be specified to view different combinations. \n",
    "\n",
    "Lastly, I allow the user to specify the number of classes and the classification scheme. At this point, Folium has limited map classification options, so I instead use Pysal's choropleth [map classfication module](http://pysal.readthedocs.io/en/latest/library/esda/mapclassify.html) to provide some basic classification options. My function defaults to \"Fisher_Jenks\", but also has options for \"Equal_Interval\", and \"Quantiles\". \n",
    "\n",
    "Below, I first create a basemap that is centered in San Francisco, and then I run my function on this basemap specifying the Census Tract ID Field as well as the field I want to symbolize on (Assaults Per Square Mile)."
   ]
  },
  {
   "cell_type": "code",
   "execution_count": null,
   "metadata": {},
   "outputs": [],
   "source": [
    "#Create SF basemap specifying map center, zoom level, and using the default OpenStreetMap tiles\n",
    "crime_map = folium.Map([37.7556, -122.4399], zoom_start = 12)\n",
    "\n",
    "def add_choropleth(mapobj, gdf, id_field, value_field, fill_color = 'YlOrRd', fill_opacity = 0.6, \n",
    "                    line_opacity = 0.2, num_classes = 5, classifier = 'Fisher_Jenks'):\n",
    "    #Allow for 3 Pysal map classifiers to display data\n",
    "    #Generate list of breakpoints using specified classification scheme. List of breakpoint will be input to choropleth function\n",
    "    if classifier == 'Fisher_Jenks':\n",
    "        threshold_scale=ps.esda.mapclassify.Fisher_Jenks(gdf[value_field], k = num_classes).bins.tolist()\n",
    "    if classifier == 'Equal_Interval':\n",
    "        threshold_scale=ps.esda.mapclassify.Equal_Interval(gdf[value_field], k = num_classes).bins.tolist()\n",
    "    if classifier == 'Quantiles':\n",
    "        threshold_scale=ps.esda.mapclassify.Quantiles(gdf[value_field], k = num_classes).bins.tolist()\n",
    "    \n",
    "    #Convert the GeoDataFrame to WGS84 coordinate reference system\n",
    "    gdf_wgs84 = gdf.to_crs({'init': 'epsg:4326'})\n",
    "    \n",
    "    #Call Folium choropleth function, specifying the geometry as a the WGS84 dataframe converted to GeoJSON, the data as \n",
    "    #the GeoDataFrame, the columns as the user-specified id field and and value field.\n",
    "    #key_on field refers to the id field within the GeoJSON string\n",
    "    mapobj.choropleth(geo_str = gdf_wgs84.to_json(), data = gdf,\n",
    "                columns = [id_field, value_field], key_on = 'feature.properties.{}'.format(id_field),\n",
    "                fill_color = fill_color, fill_opacity = fill_opacity, line_opacity = line_opacity,  \n",
    "                threshold_scale = threshold_scale)\n",
    "    return mapobj\n",
    "\n",
    "#Update basemap with choropleth\n",
    "crime_map=add_choropleth(crime_map, tracts, 'CTFIPS10','AssaultsPSqMi')"
   ]
  },
  {
   "cell_type": "markdown",
   "metadata": {},
   "source": [
    "### Create Crime Point Cluster Layer\n",
    "Before displaying my map, I will also add the layer of crime point locations. Rather than display each individual point, I use Leaflet's marker clustering feature, which makes it easier to visualize large numbers of points by grouping together those that are close to each other. Additionally, I use popups to display information about a particular crime when the user clicks on a point. Folium lets you create HTML-rich popups called IFrames. I use this feature only in the most basic form, just to display a few lines of information: crime description, date, time, and address. There are obviously much more creative things that can be done with an IFrame popup (tables, graphs, sub-maps, etc.) but for my purposes this is all I need. \n",
    "\n",
    "My function takes as its inputs a Folium map object, a GeoDataFrame, and a list of fields to include in the popup. I run this function on my previously created map object (already updated with a choropleth layer), specifying 4 fields of interest that I want to display. \n"
   ]
  },
  {
   "cell_type": "code",
   "execution_count": null,
   "metadata": {},
   "outputs": [],
   "source": [
    "def add_point_clusters(mapobj, gdf, popup_field_list):\n",
    "    #Create empty lists to contain the point coordinates and the point pop-up information\n",
    "    coords, popups = [], [] \n",
    "    #Loop through each record in the GeoDataFrame\n",
    "    for i, row in gdf.iterrows():\n",
    "        #Append lat and long coordinates to \"coords\" list\n",
    "        coords.append([row.geometry.y, row.geometry.x])\n",
    "        #Create a string of HTML code used in the IFrame popup\n",
    "        #Join together the fields in \"popup_field_list\" with a linebreak between them\n",
    "        label = '<br>'.join([row[field] for field in popup_field_list])\n",
    "        #Append an IFrame that uses the HTML string to the \"popups\" list \n",
    "        popups.append(IFrame(label, width = 300, height = 100))\n",
    "        \n",
    "    #Create a Folium feature group for this layer, since we will be displaying multiple layers\n",
    "    pt_lyr = folium.FeatureGroup(name = 'pt_lyr')\n",
    "    \n",
    "    #Add the clustered points of crime locations and popups to this layer\n",
    "    pt_lyr.add_children(MarkerCluster(locations = coords, popups = popups))\n",
    "    \n",
    "    #Add this point layer to the map object\n",
    "    mapobj.add_children(pt_lyr)\n",
    "    return mapobj\n",
    "\n",
    "#Update choropleth with point clusters\n",
    "crime_map = add_point_clusters(crime_map, assaults, ['Descript','Address','DateStr','Time'])"
   ]
  },
  {
   "cell_type": "markdown",
   "metadata": {},
   "source": [
    "### Add Layer Control, Display and Save Map\n",
    "As a finishing touch, I add Layer Control to the map, which allows me to toggle on/off either of my two layers (see widget on the top right). Then I save my finished map as an HTML and display it! \n",
    "\n",
    "I hope this was helpful in demonstrating some of the mapping capabilities of Leaflet accessed through the package Folium.  The functions I wrote provide a nice way of displaying two very common types of spatial data on a basemap and can obviously be tweaked to add more custom functionality."
   ]
  },
  {
   "cell_type": "code",
   "execution_count": null,
   "metadata": {},
   "outputs": [],
   "source": [
    "folium.LayerControl().add_to(crime_map) #Add layer control to toggle on/off\n",
    "crime_map.save('sf_assaults.html') #save HTML\n",
    "crime_map #display map"
   ]
  }
 ],
 "metadata": {
  "kernelspec": {
   "display_name": "Python 3",
   "language": "python",
   "name": "python3"
  },
  "language_info": {
   "codemirror_mode": {
    "name": "ipython",
    "version": 3
   },
   "file_extension": ".py",
   "mimetype": "text/x-python",
   "name": "python",
   "nbconvert_exporter": "python",
   "pygments_lexer": "ipython3",
   "version": "3.6.5"
  }
 },
 "nbformat": 4,
 "nbformat_minor": 1
}
